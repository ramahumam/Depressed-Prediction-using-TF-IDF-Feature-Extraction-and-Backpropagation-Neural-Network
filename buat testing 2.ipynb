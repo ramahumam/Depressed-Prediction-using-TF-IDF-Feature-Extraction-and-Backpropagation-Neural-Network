{
 "cells": [
  {
   "cell_type": "markdown",
   "id": "2f4c84ac",
   "metadata": {},
   "source": [
    "## Inisialisasi"
   ]
  },
  {
   "cell_type": "code",
   "execution_count": 1,
   "id": "a552cb80",
   "metadata": {},
   "outputs": [
    {
     "data": {
      "text/plain": [
       "'module://matplotlib_inline.backend_inline'"
      ]
     },
     "execution_count": 1,
     "metadata": {},
     "output_type": "execute_result"
    }
   ],
   "source": [
    "#inisialisasi\n",
    "import pandas as pd #Format data DataFrame\n",
    "import numpy as np  #Format data Numpy Array\n",
    "\n",
    "#Library Pre-processing\n",
    "import re\n",
    "from Sastrawi.Stemmer.StemmerFactory import StemmerFactory\n",
    "from Sastrawi.StopWordRemover.StopWordRemoverFactory import StopWordRemoverFactory\n",
    "\n",
    "#Inisialisasi Library Artificial Neural Network Backpropagation\n",
    "from sklearn.neural_network import MLPClassifier\n",
    "from sklearn.datasets import make_classification\n",
    "from sklearn.model_selection import train_test_split\n",
    "\n",
    "#Inisialisasi Feature Extraction Library TF-IDF\n",
    "from sklearn import metrics\t\n",
    "from sklearn.feature_extraction.text import CountVectorizer\n",
    "from sklearn.feature_extraction.text import TfidfTransformer\n",
    "from sklearn.pipeline import Pipeline\n",
    "\n",
    "#inisialisasi Library Pengujian Confusion matrix\n",
    "from sklearn.metrics import confusion_matrix #tidak digunakan\n",
    "from sklearn.metrics import accuracy_score\n",
    "from sklearn.metrics import recall_score #tidak digunakan\n",
    "from sklearn.metrics import precision_score #tidak digunakan\n",
    "from sklearn.metrics import f1_score #tidak digunakan\n",
    "\n",
    "#Library Visualisasi Data\n",
    "import matplotlib.pyplot as plt\n",
    "import matplotlib\n",
    "%matplotlib inline  \n",
    "matplotlib.get_backend()"
   ]
  },
  {
   "cell_type": "markdown",
   "id": "eee82191",
   "metadata": {},
   "source": [
    "## Import Data"
   ]
  },
  {
   "cell_type": "code",
   "execution_count": 2,
   "id": "7c0e82dc",
   "metadata": {},
   "outputs": [
    {
     "data": {
      "text/html": [
       "<div>\n",
       "<style scoped>\n",
       "    .dataframe tbody tr th:only-of-type {\n",
       "        vertical-align: middle;\n",
       "    }\n",
       "\n",
       "    .dataframe tbody tr th {\n",
       "        vertical-align: top;\n",
       "    }\n",
       "\n",
       "    .dataframe thead th {\n",
       "        text-align: right;\n",
       "    }\n",
       "</style>\n",
       "<table border=\"1\" class=\"dataframe\">\n",
       "  <thead>\n",
       "    <tr style=\"text-align: right;\">\n",
       "      <th></th>\n",
       "      <th>Username</th>\n",
       "      <th>Tweet</th>\n",
       "      <th>Label</th>\n",
       "    </tr>\n",
       "  </thead>\n",
       "  <tbody>\n",
       "    <tr>\n",
       "      <th>0</th>\n",
       "      <td>taekucheng</td>\n",
       "      <td>@chaobaanrk Ni knp saya yg ditag🥲 @gummierange...</td>\n",
       "      <td>1</td>\n",
       "    </tr>\n",
       "    <tr>\n",
       "      <th>1</th>\n",
       "      <td>ekaagung52</td>\n",
       "      <td>@15eights @sbmptnfess haloo maaf banget akunny...</td>\n",
       "      <td>1</td>\n",
       "    </tr>\n",
       "    <tr>\n",
       "      <th>2</th>\n",
       "      <td>_shahahahahaha</td>\n",
       "      <td>@polbanfess Ya beda-beda atuh, ga bisa disamar...</td>\n",
       "      <td>1</td>\n",
       "    </tr>\n",
       "    <tr>\n",
       "      <th>3</th>\n",
       "      <td>zephaniaky</td>\n",
       "      <td>@i0heum Kenapahhh, @i0heum kamu selonya kapan ...</td>\n",
       "      <td>1</td>\n",
       "    </tr>\n",
       "    <tr>\n",
       "      <th>4</th>\n",
       "      <td>arranjj</td>\n",
       "      <td>@purpleasehere @wafdaishere bener bestie, mung...</td>\n",
       "      <td>1</td>\n",
       "    </tr>\n",
       "  </tbody>\n",
       "</table>\n",
       "</div>"
      ],
      "text/plain": [
       "         Username                                              Tweet  Label\n",
       "0      taekucheng  @chaobaanrk Ni knp saya yg ditag🥲 @gummierange...      1\n",
       "1      ekaagung52  @15eights @sbmptnfess haloo maaf banget akunny...      1\n",
       "2  _shahahahahaha  @polbanfess Ya beda-beda atuh, ga bisa disamar...      1\n",
       "3      zephaniaky  @i0heum Kenapahhh, @i0heum kamu selonya kapan ...      1\n",
       "4         arranjj  @purpleasehere @wafdaishere bener bestie, mung...      1"
      ]
     },
     "execution_count": 2,
     "metadata": {},
     "output_type": "execute_result"
    }
   ],
   "source": [
    "# Input Data\n",
    "df = pd.read_excel(\"data fix.xlsx\") #membaca data\n",
    "df.head(5) #menampilkan 5 baris awal data"
   ]
  },
  {
   "cell_type": "markdown",
   "id": "42bc456d",
   "metadata": {},
   "source": [
    "## Data Cleansing"
   ]
  },
  {
   "cell_type": "code",
   "execution_count": 3,
   "id": "590136bb",
   "metadata": {},
   "outputs": [
    {
     "data": {
      "text/html": [
       "<div>\n",
       "<style scoped>\n",
       "    .dataframe tbody tr th:only-of-type {\n",
       "        vertical-align: middle;\n",
       "    }\n",
       "\n",
       "    .dataframe tbody tr th {\n",
       "        vertical-align: top;\n",
       "    }\n",
       "\n",
       "    .dataframe thead th {\n",
       "        text-align: right;\n",
       "    }\n",
       "</style>\n",
       "<table border=\"1\" class=\"dataframe\">\n",
       "  <thead>\n",
       "    <tr style=\"text-align: right;\">\n",
       "      <th></th>\n",
       "      <th>Tweet</th>\n",
       "      <th>Label</th>\n",
       "    </tr>\n",
       "  </thead>\n",
       "  <tbody>\n",
       "    <tr>\n",
       "      <th>137</th>\n",
       "      <td>@txtdarionlshop Ongkos menanam padi di mars, @...</td>\n",
       "      <td>1</td>\n",
       "    </tr>\n",
       "    <tr>\n",
       "      <th>138</th>\n",
       "      <td>@collegemenfess Data tidak normal bukan akhir ...</td>\n",
       "      <td>0</td>\n",
       "    </tr>\n",
       "    <tr>\n",
       "      <th>139</th>\n",
       "      <td>@vwuci Hahaha, Itu kaki kecilnya kaku kyk cm b...</td>\n",
       "      <td>0</td>\n",
       "    </tr>\n",
       "    <tr>\n",
       "      <th>140</th>\n",
       "      <td>i think today is the best day !!!!!, @growtica...</td>\n",
       "      <td>0</td>\n",
       "    </tr>\n",
       "    <tr>\n",
       "      <th>141</th>\n",
       "      <td>@palashv2 Wkwk land, @shafiraawinanda Kulewati...</td>\n",
       "      <td>1</td>\n",
       "    </tr>\n",
       "  </tbody>\n",
       "</table>\n",
       "</div>"
      ],
      "text/plain": [
       "                                                 Tweet  Label\n",
       "137  @txtdarionlshop Ongkos menanam padi di mars, @...      1\n",
       "138  @collegemenfess Data tidak normal bukan akhir ...      0\n",
       "139  @vwuci Hahaha, Itu kaki kecilnya kaku kyk cm b...      0\n",
       "140  i think today is the best day !!!!!, @growtica...      0\n",
       "141  @palashv2 Wkwk land, @shafiraawinanda Kulewati...      1"
      ]
     },
     "execution_count": 3,
     "metadata": {},
     "output_type": "execute_result"
    }
   ],
   "source": [
    "#membuang kolom yang tidak digunakan\n",
    "df = df.drop(['Username'], axis=1) #Membuang kolom username\n",
    "df.tail(5) #menampilkan 5 baris terakhir data"
   ]
  },
  {
   "cell_type": "markdown",
   "id": "808bd274",
   "metadata": {},
   "source": [
    "## Pre-processing"
   ]
  },
  {
   "cell_type": "markdown",
   "id": "b1090e1f",
   "metadata": {},
   "source": [
    "## Text Cleansing (Perform in Numpy Array)"
   ]
  },
  {
   "cell_type": "code",
   "execution_count": 4,
   "id": "61fdb2d7",
   "metadata": {},
   "outputs": [],
   "source": [
    "#membuat fungsi text_cleansing untuk memberdihkan teks data\n",
    "def text_cleansing(data) :\n",
    "    x = 0 #parameter kontrol perulangan\n",
    "    y = 0 #parameter kontrol perulangan\n",
    "    #Memulai loop perulangan\n",
    "    while x <= 141 :\n",
    "        data[x][y] = re.sub(r'@[A-Za-z0-9]+', '', data[x][y])  #removing mentions\n",
    "        data[x][y] = re.sub(r'#', '', data[x][y])              #removing hashtag\n",
    "        data[x][y] = re.sub(r'RT[\\s]+', '', data[x][y])        #removing retweet\n",
    "        data[x][y] = re.sub(r'https?:\\/\\/\\S+', '', data[x][y]) #removing the hyperlink\n",
    "        x += 1 #parameter kontrol perulangan\n",
    "    return data\n",
    "\n",
    "data_cleansed = np.array(df) #merubah data kedalam format numpy array\n",
    "data_cleansed = text_cleansing(data_cleansed) #memanggil dan mewnjalankan fungsi text_cleansing"
   ]
  },
  {
   "cell_type": "markdown",
   "id": "99699f61",
   "metadata": {},
   "source": [
    "## Text Stemming (Perform in Numpy Array)"
   ]
  },
  {
   "cell_type": "code",
   "execution_count": 5,
   "id": "63ea5922",
   "metadata": {},
   "outputs": [],
   "source": [
    "# Membuat fungsi text_stemming untuk melakukan teks stemming\n",
    "def text_stemming(data) :\n",
    "    factory = StemmerFactory() #memanggil method StemmerFactory\n",
    "    stemmer = factory.create_stemmer() #memanggil fungsi create_stemmer\n",
    "\n",
    "    x = 0 #parameter kontrol perulangan\n",
    "    y = 0 #parameter kontrol perulangan\n",
    "    #memulai loop perulangan\n",
    "    while x <= 141 :\n",
    "        data[x][y] = stemmer.stem(data[x][y]) #mengganti data[x][y] dengan data [x][y] yang sudah di-stemming\n",
    "        x += 1 #parameter kontrol perulangan\n",
    "    return data\n",
    "\n",
    "data_stemmed = np.array(data_cleansed) #merubah data kedalam format numpy array\n",
    "data_stemmed = text_stemming(data_stemmed) #memanggil dan menjalankan fungsi text_stemming"
   ]
  },
  {
   "cell_type": "markdown",
   "id": "0fe42a29",
   "metadata": {},
   "source": [
    "## Stopword Removal (perform in Pandas Dataframe)"
   ]
  },
  {
   "cell_type": "code",
   "execution_count": 6,
   "id": "68ff93f3",
   "metadata": {},
   "outputs": [
    {
     "data": {
      "text/html": [
       "<div>\n",
       "<style scoped>\n",
       "    .dataframe tbody tr th:only-of-type {\n",
       "        vertical-align: middle;\n",
       "    }\n",
       "\n",
       "    .dataframe tbody tr th {\n",
       "        vertical-align: top;\n",
       "    }\n",
       "\n",
       "    .dataframe thead th {\n",
       "        text-align: right;\n",
       "    }\n",
       "</style>\n",
       "<table border=\"1\" class=\"dataframe\">\n",
       "  <thead>\n",
       "    <tr style=\"text-align: right;\">\n",
       "      <th></th>\n",
       "      <th>Tweet</th>\n",
       "      <th>Label</th>\n",
       "    </tr>\n",
       "  </thead>\n",
       "  <tbody>\n",
       "    <tr>\n",
       "      <th>0</th>\n",
       "      <td>ditag spill bgitu asikkkk lee bangettttt kuli ...</td>\n",
       "      <td>1</td>\n",
       "    </tr>\n",
       "    <tr>\n",
       "      <th>1</th>\n",
       "      <td>haloo maaf huhu sender web rep utamain gaikut ...</td>\n",
       "      <td>1</td>\n",
       "    </tr>\n",
       "    <tr>\n",
       "      <th>2</th>\n",
       "      <td>atuh disamaratakan daftar di-kp-in angakatan-a...</td>\n",
       "      <td>1</td>\n",
       "    </tr>\n",
       "    <tr>\n",
       "      <th>3</th>\n",
       "      <td>kenapahhh selo sabtu selo trimakasih saran luc...</td>\n",
       "      <td>1</td>\n",
       "    </tr>\n",
       "    <tr>\n",
       "      <th>4</th>\n",
       "      <td>upgrade doir upgrade doir pa widodo subuh tern...</td>\n",
       "      <td>1</td>\n",
       "    </tr>\n",
       "  </tbody>\n",
       "</table>\n",
       "</div>"
      ],
      "text/plain": [
       "                                               Tweet Label\n",
       "0  ditag spill bgitu asikkkk lee bangettttt kuli ...     1\n",
       "1  haloo maaf huhu sender web rep utamain gaikut ...     1\n",
       "2  atuh disamaratakan daftar di-kp-in angakatan-a...     1\n",
       "3  kenapahhh selo sabtu selo trimakasih saran luc...     1\n",
       "4  upgrade doir upgrade doir pa widodo subuh tern...     1"
      ]
     },
     "execution_count": 6,
     "metadata": {},
     "output_type": "execute_result"
    }
   ],
   "source": [
    "#ini hanya untuk mempermudah ngambil kata pada diagram untuk dimasukkan kedalam stopword list\n",
    "#''''\n",
    "more_stopword = ['kaga','kmrn','in','yg','aku','ga','aja','jadi','sama','sama','udah','banget','kalo','mau','wkwk','nya','bgt'\n",
    "                 'orang','buat','si','apa','i','you','buat','the','gak','wkwkwk','wkwkwkwk','baru','sampe','tau','tp','dulu',\n",
    "                 'hari','dah','gitu','semua','kamu','bukan','mah','gini','jangan','to','pas','udh','for','jg','jd','a','banyak',\n",
    "                 'gak','l','4','org','lebih','suka','at','kok','masuk','lama','7','6','1','2','3','kan','lah','with','yaa','bikin',\n",
    "                 'iya','kak','mana','me','biar','kek','kalau','yaa','kok','kan','gk','lg','malah','pake','it','gin','ken','eh',\n",
    "                 'tuh','nder','emang','cuma','kaya','lu','kali','my','and','gw','s','bener','this','so','yuk','sm','terus',\n",
    "                 'pernah','siapa','kerja','beli','t','is','w','ni','nih','alah','jam','ku','baik','diri','makan','akhir','liat',\n",
    "                 'sendiri','punya','tidur','temen','tahun','pic','alah','dong','deh','enak','in','gabisa','gatau','teh','bulan',\n",
    "                 'tidur','salah','-','gimana','moga','klo','thankyou','rumah','skrg','that','5','smt','emg','paling','mending',\n",
    "                 'dm','rasa','alah','biasa','nyata','allah','of','69','dapet','sangat','ka','aing','u','anak','waktu','satu',\n",
    "                 'kata','karna','nang','besok','done','tiap','jalan','makin','by','doang','ganti','mas','be','nonton','but','mt',\n",
    "                 'square','we','cara','haryono','case','tak','pagi','sekarang','langsung','ak','lupa','tu','gt','semangat','sini',\n",
    "                 'selalu','trs','kayak','main','twt','ikut','mungkin','can','kl','beda','padahal','minta','masa','kasih','no','on',\n",
    "                 'depan','balik','bilang','mulu','tpi','bang','lo','knp','just','lalu','bs','km','lgsg','kpn','y','bawa','bakal',\n",
    "                 'buka','abis','hehe','anjir','nama','doi','have','haha','hahaha','hati','buka','gaada','siap','tpi','ngga','min',\n",
    "                 'coba','link','kapan','bagus','sekali','time','asa','2022','kira','kau','halo','g','up','minggu','tanya','mulai',\n",
    "                 'nitip','ama','cari','tinggal','lihat','jual','day','ayo','onradar','sering','like','asli','gapapa','tetep','dpt',\n",
    "                 'terima','trus','wa','berapa','hihi','neng','your','tadi','don','order','keren','memang','malem','jgn','thank',\n",
    "                 'makasih','selamat','bapak','klik','bio','tempat','kena','reg','snackbox','what','ketemu','got','dont','wkwkw',\n",
    "                 'when','ko','beneran','cowo','amp','req','vote','dr','blm','if','keluar','gratis','m','terlalu','bole','d','nunggu',\n",
    "                 'kurang','iheartawards','ah','untung','chat','gas','lewat','kakak','indonesia','isi','katla','one','id','gmn','know',\n",
    "                 'all','minum','sedang','penting','e','kasi','ambil','ambil','gamau','butuh','sma','tanya2','mirip','pulang','masak',\n",
    "                 'hasil','kemarin','shopee','kucing','bantu','tunggu','twitter','taun','btw','bandung','na','tiba','bareng','good',\n",
    "                 'asal','nasi','ntar','tengah','aamiin','percaya','mantan','nyari','awal','mu','kyk','ganteng','jelas','dy','ngomong',\n",
    "                 'kadang','kiri','gpp','cewe','kalian','tetap','manusia','tugas','deket','krn','loh','testing','pilih','an','pak','jdi',\n",
    "                 'im','gede','online','are','pertama','berat','ayam','tangan','kecil','jauh','ngapain','will','ae','cepet','selesai',\n",
    "                 'make','tuju','want','kirain','maul','ra','ten','sebenarnya','yaaa','gausah','bagai','even','potong','why','do','even',\n",
    "                 'mantap','jawab','cuman','gada','tenang','akun','album','from','10','lanjut','kung2','upload','oke','0','sana',\n",
    "                 'ngerasa','episode','born','ngakak','mood','teman','parah','dom','game','mandi','bismillah','paham','pgn','baju',\n",
    "                 'sebenarnya','nanya','stop','only','adangsuryana','arti','oke','0','ngerti','ajaaa','ajaa','info','laptop','too',\n",
    "                 'begini','dikit','dikit','aman','sebenernya','mang','pc','tentu','bestie','pdhl','kmu','see','lol','seru','hampir',\n",
    "                 'get','cukup','mo','sol','yak','much','13','ngasih','not','walaupun','lg','ig','sd','mobil','besar','now','indo',\n",
    "                 'bestmusicvideo','bangettt','perlu','yo','as','hp','luar','nga','wes','episode01','01','dlu','butter','mba','beri',\n",
    "                 'how','mantul','te','out','motor','iyaa','set','go','yu','kirim','ge','sih','gua','gue','re','ih','another','kaga',\n",
    "                 'atas','people','bgt','org','orang','man','nya','t','about','video','full','card','live','kemaren','r','hal',\n",
    "                 'meski','naik','ampe','wkwkwkkw','more','or','nya','12','grup','nah','11','euy','8','kakk','top','ur','akuu','tidak',\n",
    "                 'thing','they','them','engga','hai','iya','wtb','pd','tdk','yah','adaa','iki','who','ll','ii','nge','p','rya',\n",
    "                 'makanya','was','ve','9','pln','denger','hehehe','hehehehe','ta','td','heh','song','seblak','mbak','pin','tim',\n",
    "                 'nyampe','sdh','air','me','ehh','ny','zan','19','jan','30','been','sing','b','sore','bahkan','lot','smp','buy',\n",
    "                 'gaa','he','nu','tbtb','beberapa','maksud','paket','malam','bngt','barang','bal','niat','jayb','milik','nyokap',\n",
    "                 'ttp','pokok','back','hundred','last','enggak','panggil','cipta']\n",
    "                 #,'dream','nct','exo','nctdream','bts','got7','kpop',\n",
    "                 #'bestfanarmy','btsarmy','jaehyun','lee','mark','v','hyun','kai','baekhyun','comeback']\n",
    "                 #'''\n",
    "\n",
    "#Membuat fungsi text_filtering untuk melakukan filter kata\n",
    "def text_filtering(data) : \n",
    "    stop_factory = StopWordRemoverFactory() #memanggil library stopwordRemover\n",
    "    stop_words = stop_factory.get_stop_words() + more_stopword #memanggil stopword corpus\n",
    "    stopword = stop_factory.create_stop_word_remover() #memanggil method stopwordRemover\n",
    "    \n",
    "    data['Tweet'] = data['Tweet'].apply(lambda x: ' '.join([item for item in x.split() if item not in stop_words])) #mengganti isi data['tweet'] menjadi teks yang sudah dibersihkan\n",
    "    return data\n",
    "\n",
    "data_filtered = pd.DataFrame(data = data_stemmed) #merubah data kedalam bentuk pandas dataframe\n",
    "data_filtered.columns = ['Tweet', 'Label'] #memberikan nama kolom pada dataframe\n",
    "\n",
    "data_filtered = text_filtering(data_filtered) #memanggil dan menjalankan fungsi text_filtering\n",
    "data_filtered.head(5)"
   ]
  },
  {
   "cell_type": "markdown",
   "id": "c91a0a4c",
   "metadata": {},
   "source": [
    "## Words Count Extracted Based on Library"
   ]
  },
  {
   "cell_type": "code",
   "execution_count": 7,
   "id": "ba8cae41",
   "metadata": {},
   "outputs": [
    {
     "data": {
      "text/plain": [
       "<AxesSubplot:>"
      ]
     },
     "execution_count": 7,
     "metadata": {},
     "output_type": "execute_result"
    },
    {
     "data": {
      "image/png": "[encoded data removed]",
      "text/plain": [
       "<Figure size 432x288 with 1 Axes>"
      ]
     },
     "metadata": {
      "needs_background": "light"
     },
     "output_type": "display_data"
    }
   ],
   "source": [
    "depressed = data_filtered[data_filtered['Label'] == 1] #memasukkan data_filtered dengan label 1 kedalam variabel depressed\n",
    "depressed_words = pd.Series(' '.join(depressed['Tweet'].astype(str)).split(\" \")).value_counts()[:40] #memisah kata per-kata pada corpus dan menghitungnya\n",
    "depressed_words.plot(kind='bar',stacked=True, colormap='plasma') #menampilkan visualisasi hitung jumlah kata dalam bentuk diagram batang"
   ]
  },
  {
   "cell_type": "markdown",
   "id": "b0a2e1dc",
   "metadata": {},
   "source": [
    "## Confussion Matrix"
   ]
  },
  {
   "cell_type": "code",
   "execution_count": 9,
   "id": "1196f53b",
   "metadata": {},
   "outputs": [],
   "source": [
    "#Membuat fungsi confussion matrix (generate tp, tn, fp, fn)\n",
    "def compute_tp_tn_fp_fn(y_test, y_predict):\n",
    "    '''\n",
    "    True positive - actual = 1, predicted = 1\n",
    "    True negative - actual = 0, predicted = 0\n",
    "    False positive - actual = 1, predicted = 0\n",
    "    False negative - actual = 0, predicted = 1\n",
    "    '''\n",
    "    tp = sum((y_test == 1) & (y_predict == 1))\n",
    "    tn = sum((y_test == 0) & (y_predict == 0))\n",
    "    fp = sum((y_test == 1) & (y_predict == 0))\n",
    "    fn = sum((y_test == 0) & (y_predict == 1))\n",
    "    return tp, tn, fp, fn\n",
    "\n",
    "#Membuat fungsi hitung akurasi\n",
    "def compute_accuracy(tp, tn, fp, fn):\n",
    "    '''\n",
    "    Accuracy = TP + TN / FP + FN + TP + TN\n",
    "\n",
    "    '''\n",
    "    return ((tp + tn) * 100)/ float( tp + tn + fn + fp)\n",
    "\n",
    "#Membuat fungsi hitung presisi\n",
    "def compute_precision(tp, fp):\n",
    "    '''\n",
    "    Precision = TP  / FP + TP \n",
    "\n",
    "    '''\n",
    "    return (tp  * 100)/ float( tp + fp)\n",
    "\n",
    "#Membuat fungsi hitung recall\n",
    "def compute_recall(tp, fn):\n",
    "    '''\n",
    "    Recall = TP /FN + TP \n",
    "\n",
    "    '''\n",
    "    return (tp  * 100)/ float( tp + fn)\n",
    "\n",
    "#Membuat fungsi hitung F1_Score\n",
    "def compute_f1_score(y_test, y_predict):\n",
    "    # calculates the F1 score\n",
    "    tp, tn, fp, fn = compute_tp_tn_fp_fn(y_test, y_predict)\n",
    "    precision = compute_precision(tp, fp)/100\n",
    "    recall = compute_recall(tp, fn)/100\n",
    "    f1_score = (2*precision*recall)/ (precision + recall)\n",
    "    return f1_score * 100"
   ]
  },
  {
   "cell_type": "markdown",
   "id": "a25bb4b7",
   "metadata": {},
   "source": [
    "## TF-IDF's Features Extraction"
   ]
  },
  {
   "cell_type": "code",
   "execution_count": 47,
   "id": "d96b449c",
   "metadata": {},
   "outputs": [],
   "source": [
    "#Inisialisasi\n",
    "corpus = data_filtered.iloc[:, 0] #data tweet Sebagai Corpus\n",
    "vocab = depressed['Tweet'] #Data tweet terklasifikasi depresi sebagai vocabulary\n",
    "\n",
    "#membuat fungsi feature_extraction\n",
    "def feature_extraction(corpus, vocab) :\n",
    "    vectorizer = CountVectorizer() #panggil fungsi countvector\n",
    "    vectorizer.fit_transform(vocab) #fit countvector pada kolom tweet\n",
    "\n",
    "    vocabulary = vectorizer.get_feature_names() #mengambil fitur pada data di variabel vocab\n",
    "\n",
    "    pipe = Pipeline([('count', CountVectorizer(vocabulary = vocabulary)), #menghitung dan memasukkan term frequency kedalam kolom 'count'\n",
    "                     ('tfid', TfidfTransformer())]).fit(corpus) #menghitung dan memasukkan nilai inverse document frequency kedalam kolom 'tfid'\n",
    "    \n",
    "    tf = pipe['count'].transform(corpus).toarray() #memasukkan data term frequency kedalam variabel tf\n",
    "    idf = pipe['tfid'].idf_ #memasukkan data inverse document frequency kedalam variabel idf\n",
    "    \n",
    "    x = 0 #parameter kontrol perulangan\n",
    "    #memulai loop perulangan\n",
    "    while x < 142 :\n",
    "        tf[x] = tf[x] * idf #melakukan perhitungan tfidf\n",
    "        x += 1 #parameter kontrol perulangan\n",
    "    \n",
    "    return tf #mengembalikan data_tf sebagai hasil fungsi\n",
    "\n",
    "#Running Fungsi\n",
    "tfidf = feature_extraction(corpus, vocab) #memanggil dan menjalankan fungsi feature_extraction"
   ]
  },
  {
   "cell_type": "code",
   "execution_count": 49,
   "id": "ca2e6fa9",
   "metadata": {},
   "outputs": [
    {
     "name": "stdout",
     "output_type": "stream",
     "text": [
      "(142, 9247)\n"
     ]
    }
   ],
   "source": [
    "print(tfidf.shape)"
   ]
  },
  {
   "cell_type": "markdown",
   "id": "0485d5af",
   "metadata": {},
   "source": [
    "## Backpropagation Neural Network"
   ]
  },
  {
   "cell_type": "code",
   "execution_count": 66,
   "id": "f3cee8ab",
   "metadata": {},
   "outputs": [],
   "source": [
    "#Inisialisasi\n",
    "x = tfidf #mendefinisikan feature\n",
    "y = np.array(df['Label']) #mendefinisikan label atau target\n",
    "\n",
    "#melakukan data split menjadi 90% training dan 10% testing\n",
    "x_train, x_test, y_train, y_test = train_test_split(x, y, test_size = 0.1)"
   ]
  },
  {
   "cell_type": "code",
   "execution_count": 67,
   "id": "5d06f02b",
   "metadata": {},
   "outputs": [],
   "source": [
    "def backpropagation(x_train, x_test, y_train, y_test,  hl_sizes, learning_rate, iteration) :\n",
    "    #memanggil fungsi MLPClassifier\n",
    "    clf = MLPClassifier(random_state = 1, hidden_layer_sizes = hl_sizes, \n",
    "                        learning_rate_init = learning_rate, max_iter = iteration)\n",
    "\n",
    "    #fitting model data menggunakan x_train sebagai fitur data latih dan y_train sebagai target data latih\n",
    "    clf.fit(x_train, y_train)\n",
    "    \n",
    "    #Memprediksi dari data x_test \n",
    "    y_predict = clf.predict(x_test) #melakukan prediksi pada data x_test\n",
    "    \n",
    "    #Confussion Matrix\n",
    "    conf_matrix = compute_tp_tn_fp_fn(y_test, y_predict)\n",
    "    tp, tn, fp, fn = conf_matrix[0],conf_matrix[1],conf_matrix[2],conf_matrix[3]\n",
    "    #accuration\n",
    "    accuration = compute_accuracy(tp, tn, fp, fn)\n",
    "    #precision\n",
    "    precision = compute_precision(tp, fp)\n",
    "    #recall\n",
    "    recall = compute_recall(tp, fn)\n",
    "    #f1Score\n",
    "    f1_score = compute_f1_score(y_test, y_predict)\n",
    "    \n",
    "    return accuration, precision, recall, f1_score #mengembalikan data accuration, precision, recall, f1_score sebagai hasil output"
   ]
  },
  {
   "cell_type": "markdown",
   "id": "c9241618",
   "metadata": {},
   "source": [
    "## Parameters Testing Function"
   ]
  },
  {
   "cell_type": "code",
   "execution_count": 68,
   "id": "f4762935",
   "metadata": {},
   "outputs": [],
   "source": [
    "#Membuat fungsi testing\n",
    "def testing(x_train, x_test, y_train, y_test, hl_sizes, learning_rate, iteration):\n",
    "    bucket = list()\n",
    "    iteration_control = 0\n",
    "    while iteration_control < 5 :\n",
    "        res = backpropagation(x_train, x_test, y_train, y_test, hl_sizes, learning_rate, iteration)\n",
    "        bucket.append(res[0])\n",
    "        iteration_control = iteration_control+1\n",
    "    bucket = sum(bucket) / len(bucket)\n",
    "    return bucket"
   ]
  },
  {
   "cell_type": "markdown",
   "id": "16454661",
   "metadata": {},
   "source": [
    "## Hidden Layer Testing"
   ]
  },
  {
   "cell_type": "code",
   "execution_count": 69,
   "id": "e12d5230",
   "metadata": {},
   "outputs": [
    {
     "data": {
      "image/png": "[encoded data removed]",
      "text/plain": [
       "<Figure size 432x288 with 1 Axes>"
      ]
     },
     "metadata": {
      "needs_background": "light"
     },
     "output_type": "display_data"
    }
   ],
   "source": [
    "# UJI COBA HIDDEN LAYER\n",
    "\n",
    "#Inisialisasi Parameter\n",
    "hl_sizes = 20 #inisialisasi parameter jumlah hidden layer\n",
    "learning_rate = 0.1 #inisialisasi nilai learning rate\n",
    "iteration = 200 #inisialisasi parameter iteration\n",
    "\n",
    "hidden_layer_test_result = list() #membuat list yang akan menampung nilai hasil perulangan fungsi\n",
    "test1 = 0 #parameter kontrol perulangan\n",
    "#memulai perulangan test\n",
    "while test1 < 15:\n",
    "    hidden_layer_test = testing(x_train, x_test, y_train, y_test, hl_sizes, learning_rate, iteration) #menjalankan fungsi backpropagation\n",
    "    hidden_layer_test_result.append(hidden_layer_test) #menambah hasil fungsi kedalam list hidden_layer_test_result\n",
    "    hl_sizes = hl_sizes + 20 #parameter kontrol perulangan\n",
    "    test1 = test1+1 #parameter kontrol perulangan\n",
    "    \n",
    "# Visualisasi Hasil\n",
    "x = [20, 40, 60, 80, 100, 120, 140, 160, 180, 200, 220, 240, 260, 280, 300] #mendefinisikan variabel x untuk visualisasi (horizontal)\n",
    "y = np.array(hidden_layer_test_result).reshape(test1,) #mendefinisikan variabel y untuk visualisasi (nilai akurasi (vertikal))\n",
    "plt.plot(x,y) #melakukan fitting plot untuk variabel x dan y\n",
    "plt.xlabel('Jumlah Hidden Layer') #memberikan teks keterangan pada diagram visual\n",
    "plt.ylabel('Akurasi') #memberikan teks keterangan pada diagram visual\n",
    "plt.title('Hidden Layer Testing') #memberikan teks judul pada diagram visual\n",
    "#memulai loop perulangan\n",
    "for x, y in zip(x, y) :\n",
    "    label = \"{:.2f}\".format(y)\n",
    "    plt.annotate(label, (x, y), textcoords = \"offset points\", xytext = (0, 2), ha = 'left')"
   ]
  },
  {
   "cell_type": "markdown",
   "id": "91ca136a",
   "metadata": {},
   "source": [
    "## Learning Rate Testing"
   ]
  },
  {
   "cell_type": "code",
   "execution_count": 70,
   "id": "5d6f680e",
   "metadata": {},
   "outputs": [
    {
     "data": {
      "image/png": "[encoded data removed]",
      "text/plain": [
       "<Figure size 432x288 with 1 Axes>"
      ]
     },
     "metadata": {
      "needs_background": "light"
     },
     "output_type": "display_data"
    }
   ],
   "source": [
    "# UJI COBA LEARNING RATE\n",
    "\n",
    "hl_sizes = 260\n",
    "learning_rate = 0.1\n",
    "iteration = 200\n",
    "\n",
    "learning_rate_test_result = list()\n",
    "test2 = 0\n",
    "while test2 < 15:\n",
    "    learning_rate_test = testing(x_train, x_test, y_train, y_test, hl_sizes, learning_rate, iteration)\n",
    "    learning_rate_test_result.append(learning_rate_test)\n",
    "    learning_rate = learning_rate + 0.05\n",
    "    test2 = test2+1\n",
    "    \n",
    "# Visualisasi Hasil\n",
    "x = [0.1, 0.15, 0.2, 0.25, 0.30, 0.35, 0.4, 0.45, 0.5, 0.55, 0.6, 0.65, 0.7, 0.75, 0.8]\n",
    "y = np.array(learning_rate_test_result).reshape(test2,)\n",
    "plt.plot(x,y)\n",
    "plt.xlabel('Nilai Learning Rate')\n",
    "plt.ylabel('Akurasi')\n",
    "plt.title('Learning Rate Testing')\n",
    "for x, y in zip(x, y) :\n",
    "    label = \"{:.2f}\".format(y)\n",
    "    plt.annotate(label, (x, y), textcoords = \"offset points\", xytext = (0, 2), ha = 'left')"
   ]
  },
  {
   "cell_type": "markdown",
   "id": "9ee04ec0",
   "metadata": {},
   "source": [
    "## Iteration Testing"
   ]
  },
  {
   "cell_type": "code",
   "execution_count": 71,
   "id": "bb0a8d92",
   "metadata": {},
   "outputs": [
    {
     "name": "stderr",
     "output_type": "stream",
     "text": [
      "c:\\Users\\Rama\\anaconda3\\lib\\site-packages\\sklearn\\neural_network\\_multilayer_perceptron.py:614: ConvergenceWarning: Stochastic Optimizer: Maximum iterations (2) reached and the optimization hasn't converged yet.\n",
      "  warnings.warn(\n",
      "c:\\Users\\Rama\\anaconda3\\lib\\site-packages\\sklearn\\neural_network\\_multilayer_perceptron.py:614: ConvergenceWarning: Stochastic Optimizer: Maximum iterations (2) reached and the optimization hasn't converged yet.\n",
      "  warnings.warn(\n",
      "c:\\Users\\Rama\\anaconda3\\lib\\site-packages\\sklearn\\neural_network\\_multilayer_perceptron.py:614: ConvergenceWarning: Stochastic Optimizer: Maximum iterations (2) reached and the optimization hasn't converged yet.\n",
      "  warnings.warn(\n",
      "c:\\Users\\Rama\\anaconda3\\lib\\site-packages\\sklearn\\neural_network\\_multilayer_perceptron.py:614: ConvergenceWarning: Stochastic Optimizer: Maximum iterations (2) reached and the optimization hasn't converged yet.\n",
      "  warnings.warn(\n",
      "c:\\Users\\Rama\\anaconda3\\lib\\site-packages\\sklearn\\neural_network\\_multilayer_perceptron.py:614: ConvergenceWarning: Stochastic Optimizer: Maximum iterations (2) reached and the optimization hasn't converged yet.\n",
      "  warnings.warn(\n",
      "c:\\Users\\Rama\\anaconda3\\lib\\site-packages\\sklearn\\neural_network\\_multilayer_perceptron.py:614: ConvergenceWarning: Stochastic Optimizer: Maximum iterations (4) reached and the optimization hasn't converged yet.\n",
      "  warnings.warn(\n",
      "c:\\Users\\Rama\\anaconda3\\lib\\site-packages\\sklearn\\neural_network\\_multilayer_perceptron.py:614: ConvergenceWarning: Stochastic Optimizer: Maximum iterations (4) reached and the optimization hasn't converged yet.\n",
      "  warnings.warn(\n",
      "c:\\Users\\Rama\\anaconda3\\lib\\site-packages\\sklearn\\neural_network\\_multilayer_perceptron.py:614: ConvergenceWarning: Stochastic Optimizer: Maximum iterations (4) reached and the optimization hasn't converged yet.\n",
      "  warnings.warn(\n",
      "c:\\Users\\Rama\\anaconda3\\lib\\site-packages\\sklearn\\neural_network\\_multilayer_perceptron.py:614: ConvergenceWarning: Stochastic Optimizer: Maximum iterations (4) reached and the optimization hasn't converged yet.\n",
      "  warnings.warn(\n",
      "c:\\Users\\Rama\\anaconda3\\lib\\site-packages\\sklearn\\neural_network\\_multilayer_perceptron.py:614: ConvergenceWarning: Stochastic Optimizer: Maximum iterations (4) reached and the optimization hasn't converged yet.\n",
      "  warnings.warn(\n",
      "c:\\Users\\Rama\\anaconda3\\lib\\site-packages\\sklearn\\neural_network\\_multilayer_perceptron.py:614: ConvergenceWarning: Stochastic Optimizer: Maximum iterations (6) reached and the optimization hasn't converged yet.\n",
      "  warnings.warn(\n",
      "c:\\Users\\Rama\\anaconda3\\lib\\site-packages\\sklearn\\neural_network\\_multilayer_perceptron.py:614: ConvergenceWarning: Stochastic Optimizer: Maximum iterations (6) reached and the optimization hasn't converged yet.\n",
      "  warnings.warn(\n",
      "c:\\Users\\Rama\\anaconda3\\lib\\site-packages\\sklearn\\neural_network\\_multilayer_perceptron.py:614: ConvergenceWarning: Stochastic Optimizer: Maximum iterations (6) reached and the optimization hasn't converged yet.\n",
      "  warnings.warn(\n",
      "c:\\Users\\Rama\\anaconda3\\lib\\site-packages\\sklearn\\neural_network\\_multilayer_perceptron.py:614: ConvergenceWarning: Stochastic Optimizer: Maximum iterations (6) reached and the optimization hasn't converged yet.\n",
      "  warnings.warn(\n",
      "c:\\Users\\Rama\\anaconda3\\lib\\site-packages\\sklearn\\neural_network\\_multilayer_perceptron.py:614: ConvergenceWarning: Stochastic Optimizer: Maximum iterations (6) reached and the optimization hasn't converged yet.\n",
      "  warnings.warn(\n",
      "c:\\Users\\Rama\\anaconda3\\lib\\site-packages\\sklearn\\neural_network\\_multilayer_perceptron.py:614: ConvergenceWarning: Stochastic Optimizer: Maximum iterations (8) reached and the optimization hasn't converged yet.\n",
      "  warnings.warn(\n",
      "c:\\Users\\Rama\\anaconda3\\lib\\site-packages\\sklearn\\neural_network\\_multilayer_perceptron.py:614: ConvergenceWarning: Stochastic Optimizer: Maximum iterations (8) reached and the optimization hasn't converged yet.\n",
      "  warnings.warn(\n",
      "c:\\Users\\Rama\\anaconda3\\lib\\site-packages\\sklearn\\neural_network\\_multilayer_perceptron.py:614: ConvergenceWarning: Stochastic Optimizer: Maximum iterations (8) reached and the optimization hasn't converged yet.\n",
      "  warnings.warn(\n",
      "c:\\Users\\Rama\\anaconda3\\lib\\site-packages\\sklearn\\neural_network\\_multilayer_perceptron.py:614: ConvergenceWarning: Stochastic Optimizer: Maximum iterations (8) reached and the optimization hasn't converged yet.\n",
      "  warnings.warn(\n",
      "c:\\Users\\Rama\\anaconda3\\lib\\site-packages\\sklearn\\neural_network\\_multilayer_perceptron.py:614: ConvergenceWarning: Stochastic Optimizer: Maximum iterations (8) reached and the optimization hasn't converged yet.\n",
      "  warnings.warn(\n",
      "c:\\Users\\Rama\\anaconda3\\lib\\site-packages\\sklearn\\neural_network\\_multilayer_perceptron.py:614: ConvergenceWarning: Stochastic Optimizer: Maximum iterations (10) reached and the optimization hasn't converged yet.\n",
      "  warnings.warn(\n",
      "c:\\Users\\Rama\\anaconda3\\lib\\site-packages\\sklearn\\neural_network\\_multilayer_perceptron.py:614: ConvergenceWarning: Stochastic Optimizer: Maximum iterations (10) reached and the optimization hasn't converged yet.\n",
      "  warnings.warn(\n",
      "c:\\Users\\Rama\\anaconda3\\lib\\site-packages\\sklearn\\neural_network\\_multilayer_perceptron.py:614: ConvergenceWarning: Stochastic Optimizer: Maximum iterations (10) reached and the optimization hasn't converged yet.\n",
      "  warnings.warn(\n",
      "c:\\Users\\Rama\\anaconda3\\lib\\site-packages\\sklearn\\neural_network\\_multilayer_perceptron.py:614: ConvergenceWarning: Stochastic Optimizer: Maximum iterations (10) reached and the optimization hasn't converged yet.\n",
      "  warnings.warn(\n",
      "c:\\Users\\Rama\\anaconda3\\lib\\site-packages\\sklearn\\neural_network\\_multilayer_perceptron.py:614: ConvergenceWarning: Stochastic Optimizer: Maximum iterations (10) reached and the optimization hasn't converged yet.\n",
      "  warnings.warn(\n",
      "c:\\Users\\Rama\\anaconda3\\lib\\site-packages\\sklearn\\neural_network\\_multilayer_perceptron.py:614: ConvergenceWarning: Stochastic Optimizer: Maximum iterations (12) reached and the optimization hasn't converged yet.\n",
      "  warnings.warn(\n",
      "c:\\Users\\Rama\\anaconda3\\lib\\site-packages\\sklearn\\neural_network\\_multilayer_perceptron.py:614: ConvergenceWarning: Stochastic Optimizer: Maximum iterations (12) reached and the optimization hasn't converged yet.\n",
      "  warnings.warn(\n",
      "c:\\Users\\Rama\\anaconda3\\lib\\site-packages\\sklearn\\neural_network\\_multilayer_perceptron.py:614: ConvergenceWarning: Stochastic Optimizer: Maximum iterations (12) reached and the optimization hasn't converged yet.\n",
      "  warnings.warn(\n",
      "c:\\Users\\Rama\\anaconda3\\lib\\site-packages\\sklearn\\neural_network\\_multilayer_perceptron.py:614: ConvergenceWarning: Stochastic Optimizer: Maximum iterations (12) reached and the optimization hasn't converged yet.\n",
      "  warnings.warn(\n",
      "c:\\Users\\Rama\\anaconda3\\lib\\site-packages\\sklearn\\neural_network\\_multilayer_perceptron.py:614: ConvergenceWarning: Stochastic Optimizer: Maximum iterations (12) reached and the optimization hasn't converged yet.\n",
      "  warnings.warn(\n"
     ]
    },
    {
     "data": {
      "image/png": "[encoded data removed]",
      "text/plain": [
       "<Figure size 432x288 with 1 Axes>"
      ]
     },
     "metadata": {
      "needs_background": "light"
     },
     "output_type": "display_data"
    }
   ],
   "source": [
    "# UJI COBA Iteration\n",
    "\n",
    "#Inisialisasi Parameter\n",
    "fitur = tfidf #mendefinisikan feature\n",
    "target = np.array(df['Label']) #mendefinisikan label atau target\n",
    "\n",
    "hl_sizes = 260\n",
    "learning_rate = 0.25\n",
    "iteration = 2\n",
    "\n",
    "iteration_test_result = list()\n",
    "test3 = 0\n",
    "while test3 < 10:\n",
    "    iteration_test = testing(x_train, x_test, y_train, y_test, hl_sizes, learning_rate, iteration)\n",
    "    iteration_test_result.append(iteration_test)\n",
    "    iteration = iteration + 2\n",
    "    test3 = test3+1\n",
    "    \n",
    "# Visualisasi Hasil\n",
    "#x = [20, 40, 60, 80, 100, 120, 140, 160, 180, 200, 220, 240, 260, 280, 300]\n",
    "x = [2, 4, 6, 8, 10, 12, 14, 16, 18, 20]\n",
    "y = np.array(iteration_test_result).reshape(test3,)\n",
    "plt.plot(x,y)\n",
    "plt.xlabel('Jumlah Iterasi')\n",
    "plt.ylabel('Akurasi')\n",
    "plt.title('Iteration Testing')\n",
    "for x, y in zip(x, y) :\n",
    "    label = \"{:.2f}\".format(y)\n",
    "    plt.annotate(label, (x, y), textcoords = \"offset points\", xytext = (0, 2), ha = 'left')"
   ]
  },
  {
   "cell_type": "markdown",
   "id": "0a640dc5",
   "metadata": {},
   "source": [
    "## HASIL AKHIR"
   ]
  },
  {
   "cell_type": "code",
   "execution_count": 72,
   "id": "2fb2eabb",
   "metadata": {},
   "outputs": [
    {
     "name": "stdout",
     "output_type": "stream",
     "text": [
      "accuration\n",
      "73.33333333333333 %\n",
      "=============\n",
      "precision\n",
      "100.0 %\n",
      "=============\n",
      "recall\n",
      "73.33333333333333 %\n",
      "=============\n",
      "F1 Score\n",
      "84.6153846153846 %\n"
     ]
    }
   ],
   "source": [
    "#inisialisasi\n",
    "fitur = tfidf #mendefinisikan feature\n",
    "target = np.array(df['Label']) #mendefinisikan label atau target\n",
    "\n",
    "hl_sizes = 260\n",
    "learning_rate = 0.25\n",
    "iteration = 14\n",
    "\n",
    "#Menjalankan Fungsi Test Akhir\n",
    "test_akhir = backpropagation(x_train, x_test, y_train, y_test, hl_sizes, learning_rate, iteration)\n",
    "\n",
    "print('accuration')\n",
    "print(test_akhir[0],'%')\n",
    "print('=============')\n",
    "print('precision')\n",
    "print(test_akhir[1],'%')\n",
    "print('=============')\n",
    "print('recall')\n",
    "print(test_akhir[2],'%')\n",
    "print('=============')\n",
    "print('F1 Score')\n",
    "print(test_akhir[3],'%')"
   ]
  }
 ],
 "metadata": {
  "kernelspec": {
   "display_name": "Python 3 (ipykernel)",
   "language": "python",
   "name": "python3"
  },
  "language_info": {
   "codemirror_mode": {
    "name": "ipython",
    "version": 3
   },
   "file_extension": ".py",
   "mimetype": "text/x-python",
   "name": "python",
   "nbconvert_exporter": "python",
   "pygments_lexer": "ipython3",
   "version": "3.9.7"
  },
  "vscode": {
   "interpreter": {
    "hash": "a45515af1bd88bc73c48a5407a2e5d80a8ffe1dbe565a965cabaa838fe12a208"
   }
  }
 },
 "nbformat": 4,
 "nbformat_minor": 5
}
